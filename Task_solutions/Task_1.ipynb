{
 "cells": [
  {
   "cell_type": "markdown",
   "metadata": {},
   "source": [
    "#### TASK 1 (no commit): \n",
    "<br>\n",
    "<font color='blue'> 1. Use the sql file to create the database that you will use for this test. Use the docker-compose.yml file to launch an instance of mariadb and store the data there. Please note that clients.idprofile = profiles.contact_id. </font>"
   ]
  },
  {
   "cell_type": "markdown",
   "metadata": {},
   "source": [
    "<font color='green'>Let's take a look at the docker-compose.yml file</font>\n",
    "\n",
    "<code>vi docker-compose.yml</code>"
   ]
  },
  {
   "cell_type": "markdown",
   "metadata": {},
   "source": [
    "<code>\n",
    "version: \"2\"\n",
    "\n",
    "services:\n",
    "\n",
    "  db:\n",
    "    image: mariadb\n",
    "    restart: always\n",
    "    environment:\n",
    "      MYSQL_ROOT_PASSWORD: root\n",
    "</code>"
   ]
  },
  {
   "cell_type": "markdown",
   "metadata": {},
   "source": [
    "<font color='green'>Per inspection of the docker-compose file we can update it to add volumes, ports as \"3306:3306\" and container name as \"Alaya_de\"</font>\n",
    "\n",
    "<code>\n",
    "   version: \"2\"\n",
    " \n",
    "    services:\n",
    " \n",
    "    db:\n",
    "      ports:\n",
    "       - \"3307:3307\"\n",
    "       volumes:\n",
    "       - .:/var/lib/mysql\n",
    "      image: mariadb\n",
    "      restart: always\n",
    "      container_name: Alaya_de\n",
    "      environment:\n",
    "        MYSQL_ROOT_PASSWORD: root\n",
    " </code>"
   ]
  },
  {
   "cell_type": "markdown",
   "metadata": {},
   "source": [
    "### a. Start the Container:\n",
    "<br>\n",
    "<font color='green'>Once we switch into the director the compose file is in. We can now start the Mariadb \n",
    "container by executing the below command:</font>\n",
    "\n",
    "<code>docker-compose up</code>\n",
    "\n",
    "<br>\n",
    "<font color='green'>We can check the status of containers by the below command.</font>\n",
    "\n",
    "<code>docker-compose ps -a</code>\n",
    "\n",
    "\n",
    "Name              Command                  State                Ports              \n",
    "---------------------------------------------------------------------------------\n",
    "Alaya_de   docker-entrypoint.sh mysqld   Up          3306/tcp, 0.0.0.0:3307->3307/tcp"
   ]
  },
  {
   "cell_type": "markdown",
   "metadata": {},
   "source": [
    "### b. Install Python and other dependency files:\n",
    "<br>\n",
    "<font color='green'> As the container is up and running, we can login into the container through the below command.</font>\n",
    "\n",
    "<code> docker exec -it Alaya_de bash </code>\n",
    "\n",
    "<br>\n",
    "\n",
    "<font color='green'>Now that we have logged into the container, we can install Python and Pip onto the container using the below commands</font>\n",
    "<code>\n",
    "    RUN sudo apt-get update\n",
    "\n",
    "    RUN sudo apt-get install python\n",
    "</code> \n",
    "<br>\n",
    "<font color='green'> We can install mysql.connector file to connect to the Mariadb</font>\n",
    "\n",
    "<code>pip3 intsall mysql.connector</code>\n"
   ]
  },
  {
   "cell_type": "markdown",
   "metadata": {},
   "source": [
    "### c. Let's connect to the mariadb :\n",
    "<br />\n",
    "<font color='green'> We can connect to the mariadb as a root user. </font>\n",
    "\n",
    "<code>mysql -u root -p</code>\n",
    "\n",
    "<br />\n",
    "<font color='green'> List the databases available in the mariadb</font>\n",
    "\n",
    "<code>SHOW DATABASES;</code>\n",
    "\n",
    "<br />\n",
    "<font color='green'>Lets create a database in order to use the create_data.sql file which will load tables into the database</font>\n",
    "\n",
    "<code>CREATE DATABASE IF NOT EXISTS test;<code>\n",
    "<br />\n",
    "<font color='green'> We can now switch to the test database we have created.</font>\n",
    "    \n",
    "<code>USE test;</code>\n",
    "\n",
    "<font color='red'> Let's load the clients and profiles tables into the test database using SOURCE command</font>\n",
    "\n",
    "<code> SOURCE create_data.sql;</code>\n",
    "\n",
    "<font color='green'> The tables can be verified by checking the tables in the test database</font>\n",
    "\n",
    "<code>SHOW TABLES;</code>"
   ]
  },
  {
   "cell_type": "markdown",
   "metadata": {},
   "source": [
    "### d. Let's create a user which we can use to connect to the test database\n",
    "<br />\n",
    "<font color='green'> CREATE A User which will be utilized to connect and make changes for all our future tasks. </font>\n",
    "\n",
    "<code> CREATE USER 'prod_admin'@'localhost' IDENTIFIED BY 'He11oWor1d';</code>\n",
    "\n",
    "<code> GRANT ALL PRIVILEGES ON test.* TO 'prod_admin'@'localhost';</code>\n",
    "\n",
    "<code> FLUSH PRIVILEGES;</code>\n",
    "\n",
    "<br />\n",
    "<font color='green'> We can connect to the database using the prod_admin id</font>\n",
    "\n",
    "<code> mysql -u prod_admin -p </code>"
   ]
  },
  {
   "cell_type": "code",
   "execution_count": null,
   "metadata": {},
   "outputs": [],
   "source": []
  }
 ],
 "metadata": {
  "kernelspec": {
   "display_name": "Python 3",
   "language": "python",
   "name": "python3"
  },
  "language_info": {
   "codemirror_mode": {
    "name": "ipython",
    "version": 3
   },
   "file_extension": ".py",
   "mimetype": "text/x-python",
   "name": "python",
   "nbconvert_exporter": "python",
   "pygments_lexer": "ipython3",
   "version": "3.6.8"
  }
 },
 "nbformat": 4,
 "nbformat_minor": 2
}
